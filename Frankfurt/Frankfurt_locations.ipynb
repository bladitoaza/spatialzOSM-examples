{
 "cells": [
  {
   "cell_type": "markdown",
   "id": "b821b532",
   "metadata": {},
   "source": [
    "# Extracting points of interest"
   ]
  },
  {
   "cell_type": "markdown",
   "id": "3ac0d2d4",
   "metadata": {},
   "source": [
    "Import the necessary packages:\n",
    "osmnx and spatialzosm "
   ]
  },
  {
   "cell_type": "code",
   "execution_count": 1,
   "id": "adc3b0ce-e618-4024-b449-2167a3149736",
   "metadata": {},
   "outputs": [],
   "source": [
    "import sys\n",
    "import geopandas as gpd\n",
    "from spatialzosm import Osmpoi  "
   ]
  },
  {
   "cell_type": "markdown",
   "id": "910e409d",
   "metadata": {},
   "source": [
    "Create an object of the class Osmpoi and initialize the parameters of the object"
   ]
  },
  {
   "cell_type": "code",
   "execution_count": 2,
   "id": "70bc3e42-174a-431b-b9bf-be691fed9128",
   "metadata": {},
   "outputs": [],
   "source": [
    "frankfurt = Osmpoi({\n",
    "    \"city\": \"Frankfurt am Main\",\n",
    "    \"country\": \"Germany\",\n",
    "}) \n",
    "frankfurt.file_export='Frankfurt_POIs'\n",
    "frankfurt.save_raw=True"
   ]
  },
  {
   "cell_type": "markdown",
   "id": "d4a0b7d8",
   "metadata": {},
   "source": [
    "You can extract the points of interest using `fetch_osm_points()`. A raw dataset of the points of interest will be retrieved"
   ]
  },
  {
   "cell_type": "code",
   "execution_count": null,
   "id": "2bd9ae89",
   "metadata": {},
   "outputs": [],
   "source": [
    "frankfurt_pois = frankfurt.fetch_osm_points() "
   ]
  },
  {
   "cell_type": "markdown",
   "id": "421b52c0",
   "metadata": {},
   "source": [
    "The raw dataset can be cleaned and automatically filtered using `filter_osm_points() `"
   ]
  },
  {
   "cell_type": "code",
   "execution_count": null,
   "id": "a614f008",
   "metadata": {},
   "outputs": [],
   "source": [
    "osmdata = frankfurt.filter_osm_points(frankfurt_pois) "
   ]
  },
  {
   "cell_type": "markdown",
   "id": "aeb6b635",
   "metadata": {},
   "source": [
    "Now we have a dataset of the points of interest in Frankfurt"
   ]
  },
  {
   "cell_type": "markdown",
   "id": "b589ed19",
   "metadata": {},
   "source": [
    "# Generating home locations"
   ]
  },
  {
   "cell_type": "markdown",
   "id": "c029a14a",
   "metadata": {},
   "source": [
    "We read the geospatial dataset about Frankfurt cotaining the information of its zone units (ZUs), which in this case are districts, and the population counts of each ZU. The input dataset is **Frankfurt_districts_pop.gpkg**"
   ]
  },
  {
   "cell_type": "code",
   "execution_count": 36,
   "id": "7345406c-f27e-4ffe-910f-12b381ee520d",
   "metadata": {},
   "outputs": [
    {
     "data": {
      "text/html": [
       "<div>\n",
       "<style scoped>\n",
       "    .dataframe tbody tr th:only-of-type {\n",
       "        vertical-align: middle;\n",
       "    }\n",
       "\n",
       "    .dataframe tbody tr th {\n",
       "        vertical-align: top;\n",
       "    }\n",
       "\n",
       "    .dataframe thead th {\n",
       "        text-align: right;\n",
       "    }\n",
       "</style>\n",
       "<table border=\"1\" class=\"dataframe\">\n",
       "  <thead>\n",
       "    <tr style=\"text-align: right;\">\n",
       "      <th></th>\n",
       "      <th>STTLNR</th>\n",
       "      <th>STTLNAME</th>\n",
       "      <th>Frankfurt_pop_field_3</th>\n",
       "      <th>geometry</th>\n",
       "    </tr>\n",
       "  </thead>\n",
       "  <tbody>\n",
       "    <tr>\n",
       "      <th>0</th>\n",
       "      <td>1</td>\n",
       "      <td>Altstadt</td>\n",
       "      <td>4063</td>\n",
       "      <td>MULTIPOLYGON (((8.68787 50.11416, 8.68789 50.1...</td>\n",
       "    </tr>\n",
       "    <tr>\n",
       "      <th>1</th>\n",
       "      <td>2</td>\n",
       "      <td>Innenstadt</td>\n",
       "      <td>6491</td>\n",
       "      <td>MULTIPOLYGON (((8.68683 50.12013, 8.68891 50.1...</td>\n",
       "    </tr>\n",
       "    <tr>\n",
       "      <th>2</th>\n",
       "      <td>4</td>\n",
       "      <td>Westend-Süd</td>\n",
       "      <td>18798</td>\n",
       "      <td>MULTIPOLYGON (((8.66070 50.12310, 8.66181 50.1...</td>\n",
       "    </tr>\n",
       "    <tr>\n",
       "      <th>3</th>\n",
       "      <td>5</td>\n",
       "      <td>Westend-Nord</td>\n",
       "      <td>10026</td>\n",
       "      <td>MULTIPOLYGON (((8.67113 50.13696, 8.67140 50.1...</td>\n",
       "    </tr>\n",
       "    <tr>\n",
       "      <th>4</th>\n",
       "      <td>6</td>\n",
       "      <td>Nordend-West</td>\n",
       "      <td>30307</td>\n",
       "      <td>MULTIPOLYGON (((8.69722 50.13692, 8.69669 50.1...</td>\n",
       "    </tr>\n",
       "  </tbody>\n",
       "</table>\n",
       "</div>"
      ],
      "text/plain": [
       "   STTLNR      STTLNAME  Frankfurt_pop_field_3  \\\n",
       "0       1      Altstadt                   4063   \n",
       "1       2    Innenstadt                   6491   \n",
       "2       4   Westend-Süd                  18798   \n",
       "3       5  Westend-Nord                  10026   \n",
       "4       6  Nordend-West                  30307   \n",
       "\n",
       "                                            geometry  \n",
       "0  MULTIPOLYGON (((8.68787 50.11416, 8.68789 50.1...  \n",
       "1  MULTIPOLYGON (((8.68683 50.12013, 8.68891 50.1...  \n",
       "2  MULTIPOLYGON (((8.66070 50.12310, 8.66181 50.1...  \n",
       "3  MULTIPOLYGON (((8.67113 50.13696, 8.67140 50.1...  \n",
       "4  MULTIPOLYGON (((8.69722 50.13692, 8.69669 50.1...  "
      ]
     },
     "execution_count": 36,
     "metadata": {},
     "output_type": "execute_result"
    }
   ],
   "source": [
    "gdf = gpd.read_file('input_data/Frankfurt_districts_pop.gpkg',crs='EPSG:4326')\n",
    "gdf.head()"
   ]
  },
  {
   "cell_type": "markdown",
   "id": "259b0bb6",
   "metadata": {},
   "source": [
    "We rename the columns by giving an appropriate name"
   ]
  },
  {
   "cell_type": "code",
   "execution_count": 37,
   "id": "452b32ee-90e5-4e33-b5fd-bd6083b2e533",
   "metadata": {},
   "outputs": [
    {
     "data": {
      "text/html": [
       "<div>\n",
       "<style scoped>\n",
       "    .dataframe tbody tr th:only-of-type {\n",
       "        vertical-align: middle;\n",
       "    }\n",
       "\n",
       "    .dataframe tbody tr th {\n",
       "        vertical-align: top;\n",
       "    }\n",
       "\n",
       "    .dataframe thead th {\n",
       "        text-align: right;\n",
       "    }\n",
       "</style>\n",
       "<table border=\"1\" class=\"dataframe\">\n",
       "  <thead>\n",
       "    <tr style=\"text-align: right;\">\n",
       "      <th></th>\n",
       "      <th>STTLNAME</th>\n",
       "      <th>pop</th>\n",
       "      <th>geometry</th>\n",
       "    </tr>\n",
       "    <tr>\n",
       "      <th>AZ</th>\n",
       "      <th></th>\n",
       "      <th></th>\n",
       "      <th></th>\n",
       "    </tr>\n",
       "  </thead>\n",
       "  <tbody>\n",
       "    <tr>\n",
       "      <th>1</th>\n",
       "      <td>Altstadt</td>\n",
       "      <td>4063</td>\n",
       "      <td>MULTIPOLYGON (((8.68787 50.11416, 8.68789 50.1...</td>\n",
       "    </tr>\n",
       "    <tr>\n",
       "      <th>2</th>\n",
       "      <td>Innenstadt</td>\n",
       "      <td>6491</td>\n",
       "      <td>MULTIPOLYGON (((8.68683 50.12013, 8.68891 50.1...</td>\n",
       "    </tr>\n",
       "    <tr>\n",
       "      <th>4</th>\n",
       "      <td>Westend-Süd</td>\n",
       "      <td>18798</td>\n",
       "      <td>MULTIPOLYGON (((8.66070 50.12310, 8.66181 50.1...</td>\n",
       "    </tr>\n",
       "    <tr>\n",
       "      <th>5</th>\n",
       "      <td>Westend-Nord</td>\n",
       "      <td>10026</td>\n",
       "      <td>MULTIPOLYGON (((8.67113 50.13696, 8.67140 50.1...</td>\n",
       "    </tr>\n",
       "    <tr>\n",
       "      <th>6</th>\n",
       "      <td>Nordend-West</td>\n",
       "      <td>30307</td>\n",
       "      <td>MULTIPOLYGON (((8.69722 50.13692, 8.69669 50.1...</td>\n",
       "    </tr>\n",
       "  </tbody>\n",
       "</table>\n",
       "</div>"
      ],
      "text/plain": [
       "        STTLNAME    pop                                           geometry\n",
       "AZ                                                                        \n",
       "1       Altstadt   4063  MULTIPOLYGON (((8.68787 50.11416, 8.68789 50.1...\n",
       "2     Innenstadt   6491  MULTIPOLYGON (((8.68683 50.12013, 8.68891 50.1...\n",
       "4    Westend-Süd  18798  MULTIPOLYGON (((8.66070 50.12310, 8.66181 50.1...\n",
       "5   Westend-Nord  10026  MULTIPOLYGON (((8.67113 50.13696, 8.67140 50.1...\n",
       "6   Nordend-West  30307  MULTIPOLYGON (((8.69722 50.13692, 8.69669 50.1..."
      ]
     },
     "execution_count": 37,
     "metadata": {},
     "output_type": "execute_result"
    }
   ],
   "source": [
    "new_ind = 'AZ'\n",
    "gdf.rename(columns={'Frankfurt_pop_field_3':'pop','STTLNR':new_ind}, inplace=True)\n",
    "gdf.set_index('AZ',inplace = True)\n",
    "gdf.head()"
   ]
  },
  {
   "cell_type": "markdown",
   "id": "e94bfb41",
   "metadata": {},
   "source": [
    "## Generating locations over the zone units"
   ]
  },
  {
   "cell_type": "markdown",
   "id": "97855dcb",
   "metadata": {},
   "source": [
    "We generate the locations across the areas of the ZUs uniformly"
   ]
  },
  {
   "cell_type": "code",
   "execution_count": null,
   "id": "b4799f5d",
   "metadata": {},
   "outputs": [],
   "source": [
    "POIs_area_uniform= frankfurt.create_houses_areas(gdf, crs='EPSG:4326',method='uniform',size=gdf['pop'].values)"
   ]
  },
  {
   "cell_type": "markdown",
   "id": "1c310256",
   "metadata": {},
   "source": [
    "We can also generate the locations across the areas of the ZUs using a normal distribution around a center point. The center points are the centroids of the ZUs shapes"
   ]
  },
  {
   "cell_type": "code",
   "execution_count": null,
   "id": "1eed6fd6",
   "metadata": {},
   "outputs": [],
   "source": [
    "POIs_area_normal= frankfurt.create_houses_areas(gdf, crs='EPSG:4326',method='normal',size=gdf['pop'].values)"
   ]
  },
  {
   "cell_type": "markdown",
   "id": "939cb89e",
   "metadata": {},
   "source": [
    "## Generating home locations along the street network"
   ]
  },
  {
   "cell_type": "markdown",
   "id": "0d94aaa8",
   "metadata": {},
   "source": [
    "To generate home locations along the road network, we need the geospatial information of the road network. \n",
    "We can extract the road network from OSM using:"
   ]
  },
  {
   "cell_type": "code",
   "execution_count": null,
   "id": "b40d71f5-3cc8-4701-99f6-9880b00932cb",
   "metadata": {},
   "outputs": [],
   "source": [
    "street_network = frankfurt.fetch_osm_streets()"
   ]
  },
  {
   "cell_type": "markdown",
   "id": "a1e47d56",
   "metadata": {},
   "source": [
    "The datafile is saved or stored as a variable"
   ]
  },
  {
   "cell_type": "markdown",
   "id": "ecf52054",
   "metadata": {},
   "source": [
    "Next, we load the extracted road network from file "
   ]
  },
  {
   "cell_type": "code",
   "execution_count": null,
   "id": "98d2a957",
   "metadata": {},
   "outputs": [],
   "source": [
    "gdf_streets = gpd.read_file('Frankfurt_POIs_streets.csv',GEOM_POSSIBLE_NAMES=\"geometry\", KEEP_GEOM_COLUMNS=\"NO\", crs='EPSG:4326')\n",
    "gdf_streets.plot()"
   ]
  },
  {
   "cell_type": "markdown",
   "id": "35a0d0f0",
   "metadata": {},
   "source": [
    "Join both datasets `gdf_streets` and `gdf` to have a dataset of the road newtork with the associated zone unit each road belongs to"
   ]
  },
  {
   "cell_type": "code",
   "execution_count": null,
   "id": "07727c43-93ec-4812-8ca6-88ca8711213f",
   "metadata": {},
   "outputs": [],
   "source": [
    "roads_region=gpd.sjoin(gdf_streets, gdf,how=\"inner\",predicate='intersects')\n",
    "roads_region.rename(columns={\"index_right\": new_ind},inplace=True)\n",
    "pop_size = gdf.loc[roads_region[new_ind].unique()]"
   ]
  },
  {
   "cell_type": "markdown",
   "id": "af2a6d04",
   "metadata": {},
   "source": [
    "We generate home locations along the road network using the road network `roads_region` and the population of each zone unit `pop_size[pop]`"
   ]
  },
  {
   "cell_type": "code",
   "execution_count": null,
   "id": "f776813d-5bcc-42f3-97c0-fc944cb51d35",
   "metadata": {},
   "outputs": [],
   "source": [
    "POI_houses = frankfurt.create_houses_streets(roads_region,pop_size=pop_size['pop'],crs='EPSG:4326')"
   ]
  },
  {
   "cell_type": "markdown",
   "id": "f2e2a428",
   "metadata": {},
   "source": [
    "## Generating home locations within building geometries"
   ]
  },
  {
   "cell_type": "markdown",
   "id": "77bed6d5",
   "metadata": {},
   "source": [
    "To generate home locations along the road network, we need the geospatial information of the building shapes.\n",
    "We can extract the road network from OSM using:"
   ]
  },
  {
   "cell_type": "code",
   "execution_count": null,
   "id": "f05e1547",
   "metadata": {},
   "outputs": [],
   "source": [
    "buildings=frankfurt.fetch_osm_buildings()"
   ]
  },
  {
   "cell_type": "markdown",
   "id": "01e38094",
   "metadata": {},
   "source": [
    "We read the obtained dataset"
   ]
  },
  {
   "cell_type": "code",
   "execution_count": null,
   "id": "94ad9385",
   "metadata": {},
   "outputs": [],
   "source": [
    "gdf_building = gpd.read_file('Frankfurt_POIs_buildings.csv',GEOM_POSSIBLE_NAMES=\"geometry\", KEEP_GEOM_COLUMNS=\"NO\", crs='EPSG:4326')"
   ]
  },
  {
   "cell_type": "markdown",
   "id": "0e7eeb69",
   "metadata": {},
   "source": [
    "We filter the dataset to obtain only buildings that can allocate homes"
   ]
  },
  {
   "cell_type": "code",
   "execution_count": null,
   "id": "9c9b70fb",
   "metadata": {},
   "outputs": [],
   "source": [
    "gdf_building['building']=gdf_building['building'].astype(str)\n",
    "gdf_building=gdf_building[(gdf_building['building']=='yes') | (gdf_building['building']=='hotel')| (gdf_building['building']=='apartment')| (gdf_building['building']=='apartments')| (gdf_building['building']=='bungalow')| (gdf_building['building']=='cabin')| (gdf_building['building']=='dormitory')| (gdf_building['building']=='flats')| (gdf_building['building']=='house')|  (gdf_building['building']=='residential')| (gdf_building['building']=='boathouse')| (gdf_building['building']=='allotment_house')| (gdf_building['building']=='terrace')| (gdf_building['building']=='transformer_house')| (gdf_building['building']=='summer_house')| (gdf_building['building']=='houseboat')| (gdf_building['building']=='terrace')]\n",
    "\n",
    "gdf_building=gdf_building[['building','geometry']]"
   ]
  },
  {
   "cell_type": "markdown",
   "id": "7a96e60b",
   "metadata": {},
   "source": [
    "Join both datasets `gdf_building` and `gdf` to have a dataset of the road newtork with the associated zone unit each road belongs to"
   ]
  },
  {
   "cell_type": "code",
   "execution_count": null,
   "id": "e6f2167d",
   "metadata": {},
   "outputs": [],
   "source": [
    "buildings_region=gpd.sjoin(gdf_building, gdf,how=\"left\",predicate='within')\n",
    "buildings_region.rename(columns={\"index_right\": new_ind},inplace=True)\n",
    "buildings_region=buildings_region.dropna(subset=new_ind)\n",
    "pop_size = gdf.loc[buildings_region[new_ind].unique()]"
   ]
  },
  {
   "cell_type": "markdown",
   "id": "c64c3b74",
   "metadata": {},
   "source": [
    "Generate the locations within the buildings. The generation is based on the types of buildings in **building** column of `buildings_region`"
   ]
  },
  {
   "cell_type": "code",
   "execution_count": null,
   "id": "9edf5ec6",
   "metadata": {},
   "outputs": [],
   "source": [
    "building_type_column = 'building'\n",
    "POI_houses = frankfurt.create_houses_buildings(buildings_region,new_ind,building_type_column,pop_size=pop_size['pop'])"
   ]
  }
 ],
 "metadata": {
  "kernelspec": {
   "display_name": "ox",
   "language": "python",
   "name": "ox"
  },
  "language_info": {
   "codemirror_mode": {
    "name": "ipython",
    "version": 3
   },
   "file_extension": ".py",
   "mimetype": "text/x-python",
   "name": "python",
   "nbconvert_exporter": "python",
   "pygments_lexer": "ipython3",
   "version": "3.12.2"
  }
 },
 "nbformat": 4,
 "nbformat_minor": 5
}
